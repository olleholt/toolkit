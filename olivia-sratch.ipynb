{
 "cells": [
  {
   "cell_type": "code",
   "execution_count": 1,
   "id": "85a05313-712a-47ad-8b68-9128c0d158dd",
   "metadata": {},
   "outputs": [],
   "source": [
    "# Packages needed generally\n",
    "import xarray as xr\n",
    "import pandas as pd\n",
    "\n",
    "# Packages needed for CESM1 example\n",
    "import pprint\n",
    "import intake\n",
    "import requests\n",
    "import aiohttp\n",
    "import s3fs\n",
    "\n",
    "# Packages needed for CMIP6\n",
    "import zarr\n",
    "import gcsfs"
   ]
  },
  {
   "cell_type": "code",
   "execution_count": 2,
   "id": "8250d2e4-0612-4004-880f-09a9bb249b35",
   "metadata": {
    "tags": []
   },
   "outputs": [],
   "source": [
    "# Open original collection description file: CESM1 LENS\n",
    "cat_url = \"https://ncar-cesm-lens.s3-us-west-2.amazonaws.com/catalogs/aws-cesm1-le.json\"\n",
    "col = intake.open_esm_datastore(cat_url)\n",
    "col\n",
    "\n",
    "# Location of file containing grid (lat/lon) information for CESM1 LENS\n",
    "grid_url=\"s3://ncar-cesm-lens/ocn/static/grid.zarr\""
   ]
  },
  {
   "cell_type": "code",
   "execution_count": 3,
   "id": "4a36759b-a77d-4b5b-b5f2-a8bc85d50de9",
   "metadata": {
    "tags": []
   },
   "outputs": [
    {
     "data": {
      "text/html": [
       "<div>\n",
       "<style scoped>\n",
       "    .dataframe tbody tr th:only-of-type {\n",
       "        vertical-align: middle;\n",
       "    }\n",
       "\n",
       "    .dataframe tbody tr th {\n",
       "        vertical-align: top;\n",
       "    }\n",
       "\n",
       "    .dataframe thead th {\n",
       "        text-align: right;\n",
       "    }\n",
       "</style>\n",
       "<table border=\"1\" class=\"dataframe\">\n",
       "  <thead>\n",
       "    <tr style=\"text-align: right;\">\n",
       "      <th></th>\n",
       "      <th>variable</th>\n",
       "      <th>long_name</th>\n",
       "      <th>component</th>\n",
       "      <th>experiment</th>\n",
       "      <th>frequency</th>\n",
       "      <th>vertical_levels</th>\n",
       "      <th>spatial_domain</th>\n",
       "      <th>units</th>\n",
       "      <th>start_time</th>\n",
       "      <th>end_time</th>\n",
       "      <th>path</th>\n",
       "    </tr>\n",
       "  </thead>\n",
       "  <tbody>\n",
       "    <tr>\n",
       "      <th>0</th>\n",
       "      <td>TEMP</td>\n",
       "      <td>potential temperature</td>\n",
       "      <td>ocn</td>\n",
       "      <td>20C</td>\n",
       "      <td>monthly</td>\n",
       "      <td>60.0</td>\n",
       "      <td>global_ocean</td>\n",
       "      <td>degC</td>\n",
       "      <td>1920-01-16 12:00:00</td>\n",
       "      <td>2005-12-16 12:00:00</td>\n",
       "      <td>s3://ncar-cesm-lens/ocn/monthly/cesmLE-20C-TEM...</td>\n",
       "    </tr>\n",
       "    <tr>\n",
       "      <th>1</th>\n",
       "      <td>TEMP</td>\n",
       "      <td>potential temperature</td>\n",
       "      <td>ocn</td>\n",
       "      <td>CTRL</td>\n",
       "      <td>monthly</td>\n",
       "      <td>60.0</td>\n",
       "      <td>global_ocean</td>\n",
       "      <td>degC</td>\n",
       "      <td>0400-01-16 12:00:00</td>\n",
       "      <td>2200-12-16 12:00:00</td>\n",
       "      <td>s3://ncar-cesm-lens/ocn/monthly/cesmLE-CTRL-TE...</td>\n",
       "    </tr>\n",
       "    <tr>\n",
       "      <th>2</th>\n",
       "      <td>TEMP</td>\n",
       "      <td>potential temperature</td>\n",
       "      <td>ocn</td>\n",
       "      <td>HIST</td>\n",
       "      <td>monthly</td>\n",
       "      <td>60.0</td>\n",
       "      <td>global_ocean</td>\n",
       "      <td>degC</td>\n",
       "      <td>1850-01-16 12:00:00</td>\n",
       "      <td>1919-12-16 12:00:00</td>\n",
       "      <td>s3://ncar-cesm-lens/ocn/monthly/cesmLE-HIST-TE...</td>\n",
       "    </tr>\n",
       "    <tr>\n",
       "      <th>3</th>\n",
       "      <td>TEMP</td>\n",
       "      <td>potential temperature</td>\n",
       "      <td>ocn</td>\n",
       "      <td>RCP85</td>\n",
       "      <td>monthly</td>\n",
       "      <td>60.0</td>\n",
       "      <td>global_ocean</td>\n",
       "      <td>degC</td>\n",
       "      <td>2006-01-16 12:00:00</td>\n",
       "      <td>2100-12-16 12:00:00</td>\n",
       "      <td>s3://ncar-cesm-lens/ocn/monthly/cesmLE-RCP85-T...</td>\n",
       "    </tr>\n",
       "  </tbody>\n",
       "</table>\n",
       "</div>"
      ],
      "text/plain": [
       "  variable              long_name component experiment frequency  \\\n",
       "0     TEMP  potential temperature       ocn        20C   monthly   \n",
       "1     TEMP  potential temperature       ocn       CTRL   monthly   \n",
       "2     TEMP  potential temperature       ocn       HIST   monthly   \n",
       "3     TEMP  potential temperature       ocn      RCP85   monthly   \n",
       "\n",
       "   vertical_levels spatial_domain units           start_time  \\\n",
       "0             60.0   global_ocean  degC  1920-01-16 12:00:00   \n",
       "1             60.0   global_ocean  degC  0400-01-16 12:00:00   \n",
       "2             60.0   global_ocean  degC  1850-01-16 12:00:00   \n",
       "3             60.0   global_ocean  degC  2006-01-16 12:00:00   \n",
       "\n",
       "              end_time                                               path  \n",
       "0  2005-12-16 12:00:00  s3://ncar-cesm-lens/ocn/monthly/cesmLE-20C-TEM...  \n",
       "1  2200-12-16 12:00:00  s3://ncar-cesm-lens/ocn/monthly/cesmLE-CTRL-TE...  \n",
       "2  1919-12-16 12:00:00  s3://ncar-cesm-lens/ocn/monthly/cesmLE-HIST-TE...  \n",
       "3  2100-12-16 12:00:00  s3://ncar-cesm-lens/ocn/monthly/cesmLE-RCP85-T...  "
      ]
     },
     "execution_count": 3,
     "metadata": {},
     "output_type": "execute_result"
    }
   ],
   "source": [
    "# Search for the TEMP variable, display the first few entries in the resulting data frame\n",
    "col.search(variable=\"TEMP\").df"
   ]
  },
  {
   "cell_type": "code",
   "execution_count": null,
   "id": "bdb5380f-0b84-41dd-8442-b7e6144627e9",
   "metadata": {},
   "outputs": [],
   "source": []
  },
  {
   "cell_type": "code",
   "execution_count": null,
   "id": "588c7e5e-4a7f-403e-aa6d-ba01936ed05f",
   "metadata": {},
   "outputs": [],
   "source": []
  }
 ],
 "metadata": {
  "kernelspec": {
   "display_name": "channelislanders",
   "language": "python",
   "name": "channelislanders"
  },
  "language_info": {
   "codemirror_mode": {
    "name": "ipython",
    "version": 3
   },
   "file_extension": ".py",
   "mimetype": "text/x-python",
   "name": "python",
   "nbconvert_exporter": "python",
   "pygments_lexer": "ipython3",
   "version": "3.9.18"
  }
 },
 "nbformat": 4,
 "nbformat_minor": 5
}
